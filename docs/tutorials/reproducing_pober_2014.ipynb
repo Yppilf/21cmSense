{
 "cells": [
  {
   "cell_type": "markdown",
   "metadata": {},
   "source": [
    "# Reproducing Pober+2014"
   ]
  },
  {
   "cell_type": "markdown",
   "metadata": {},
   "source": [
    "In this demo, we are going to reproduce many of the results of [Pober+2014](https://arxiv.org/pdf/1310.7031.pdf), which looked at the sensitivity of a \"concept HERA\" (which differs somewhat from the final instrument), as well as a few other well-known arrays."
   ]
  },
  {
   "cell_type": "code",
   "execution_count": 2,
   "metadata": {},
   "outputs": [],
   "source": [
    "import py21cmsense as p21c\n",
    "from astropy import units as un\n",
    "from astropy.cosmology.units import littleh\n",
    "import matplotlib.pyplot as plt\n",
    "import numpy as np"
   ]
  },
  {
   "cell_type": "code",
   "execution_count": 3,
   "metadata": {},
   "outputs": [],
   "source": [
    "p21c.config.COSMO = p21c.config.COSMO.clone(H0=70.0, Om0=0.266)"
   ]
  },
  {
   "cell_type": "markdown",
   "metadata": {},
   "source": [
    "## HERA"
   ]
  },
  {
   "cell_type": "markdown",
   "metadata": {},
   "source": [
    "P14 used a concept version of HERA that was a perfect hexagon (with no splits), with 547\n",
    "elements and no outriggers. Let's create such an array:"
   ]
  },
  {
   "cell_type": "code",
   "execution_count": 4,
   "metadata": {},
   "outputs": [],
   "source": [
    "hera_ants = p21c.antpos.hera(hex_num=14)"
   ]
  },
  {
   "cell_type": "code",
   "execution_count": 5,
   "metadata": {},
   "outputs": [
    {
     "data": {
      "text/plain": [
       "(547, 3)"
      ]
     },
     "execution_count": 5,
     "metadata": {},
     "output_type": "execute_result"
    }
   ],
   "source": [
    "hera_ants.shape"
   ]
  },
  {
   "cell_type": "markdown",
   "metadata": {},
   "source": [
    "We will reproduce the results at $z=9.5$ (the default case in P14). Note that we use a dish size that is slightly \n",
    "different that that of P14, because the important thing is to match the beam width (which scales linearly\n",
    "with frequency):"
   ]
  },
  {
   "cell_type": "code",
   "execution_count": 6,
   "metadata": {},
   "outputs": [],
   "source": [
    "beam = p21c.GaussianBeam(frequency=1420*un.MHz/(1 + 9.5), dish_size=13.919*un.m)"
   ]
  },
  {
   "cell_type": "code",
   "execution_count": 7,
   "metadata": {},
   "outputs": [
    {
     "data": {
      "text/latex": [
       "$9.6497626 \\; \\mathrm{{}^{\\circ}}$"
      ],
      "text/plain": [
       "<Quantity 9.64976265 deg>"
      ]
     },
     "execution_count": 7,
     "metadata": {},
     "output_type": "execute_result"
    }
   ],
   "source": [
    "beam.fwhm.to(un.deg)"
   ]
  },
  {
   "cell_type": "markdown",
   "metadata": {},
   "source": [
    "What is the beam-crossing time? This is given as \"about 40min\" by P14. We obtain it as:"
   ]
  },
  {
   "cell_type": "code",
   "execution_count": 8,
   "metadata": {},
   "outputs": [
    {
     "data": {
      "text/plain": [
       "38.5990505880113"
      ]
     },
     "execution_count": 8,
     "metadata": {},
     "output_type": "execute_result"
    }
   ],
   "source": [
    "beam.fwhm.to(un.deg).value*24*60/360"
   ]
  },
  {
   "cell_type": "markdown",
   "metadata": {},
   "source": [
    "As a check on whether our GaussianBeam model is similar to the assumed beam in P14, \n",
    "we check the FWHM at 150MHz, quoted as 8.7deg in Table 1 of P14:"
   ]
  },
  {
   "cell_type": "code",
   "execution_count": 9,
   "metadata": {},
   "outputs": [
    {
     "data": {
      "text/latex": [
       "$8.7001035 \\; \\mathrm{{}^{\\circ}}$"
      ],
      "text/plain": [
       "<Quantity 8.70010347 deg>"
      ]
     },
     "execution_count": 9,
     "metadata": {},
     "output_type": "execute_result"
    }
   ],
   "source": [
    "p21c.GaussianBeam(frequency=150*un.MHz, dish_size=13.919*un.m).fwhm.to(un.deg)"
   ]
  },
  {
   "cell_type": "markdown",
   "metadata": {},
   "source": [
    "This is very close to the quoted value."
   ]
  },
  {
   "cell_type": "markdown",
   "metadata": {},
   "source": [
    "Now, let's create the HERA Observatory model. Here, we set the receiver temperature to 100K,\n",
    "as per Table 1 of P14. We also set the latitude of the instrument to that of Green Bank (38:25:59.24),\n",
    "which was the assumed location of HERA in P14:"
   ]
  },
  {
   "cell_type": "code",
   "execution_count": 10,
   "metadata": {},
   "outputs": [],
   "source": [
    "hera = p21c.Observatory(\n",
    "    antpos=hera_ants,\n",
    "    beam=beam,\n",
    "    latitude=0.6707845*un.rad,\n",
    "    Trcv=100*un.K,\n",
    ")"
   ]
  },
  {
   "cell_type": "markdown",
   "metadata": {},
   "source": [
    "Now, set up the observation itself. Here we assume a sky temperature model of \n",
    "$351{\\rm K} (\\nu/150 {\\rm MHz})^{-2.55}$, as described in S2.1.2 of P14. \n",
    "\n",
    "Furthermore, we set the number of days of observation to 180, with 6 hours per night. \n",
    "We also set the \"coherent observing time\" to its default of the beam crossing time, \n",
    "which is about 40min as per the above calculation.\n",
    "\n",
    "Finally, as per S3.1.2 of P14, we use 8MHz of bandwidth, with 81 channels (providing\n",
    "0.1 MHz channel width)."
   ]
  },
  {
   "cell_type": "code",
   "execution_count": 11,
   "metadata": {},
   "outputs": [],
   "source": [
    "obs = p21c.Observation(\n",
    "    observatory=hera,\n",
    "    tsky_amplitude=351*un.K,\n",
    "    tsky_ref_freq=150*un.MHz,\n",
    "    spectral_index=2.55,\n",
    "    n_days=180,\n",
    "    time_per_day=6*un.hour,\n",
    "    bandwidth=8*un.MHz,\n",
    "    n_channels=81,\n",
    ")"
   ]
  },
  {
   "cell_type": "code",
   "execution_count": 12,
   "metadata": {},
   "outputs": [
    {
     "name": "stderr",
     "output_type": "stream",
     "text": [
      "finding redundancies: 100%|██████████| 546/546 [00:03<00:00, 138.24ants/s]\n",
      "computing UVWs: 100%|██████████| 39/39 [00:00<00:00, 120.45times/s]\n",
      "gridding baselines: 100%|██████████| 2106/2106 [00:00<00:00, 13248.39baselines/s]\n"
     ]
    },
    {
     "data": {
      "text/plain": [
       "(53, 53)"
      ]
     },
     "execution_count": 12,
     "metadata": {},
     "output_type": "execute_result"
    }
   ],
   "source": [
    "obs.uv_coverage.shape"
   ]
  },
  {
   "cell_type": "code",
   "execution_count": 13,
   "metadata": {},
   "outputs": [
    {
     "data": {
      "text/latex": [
       "$135.2381 \\; \\mathrm{MHz}$"
      ],
      "text/plain": [
       "<Quantity 135.23809524 MHz>"
      ]
     },
     "execution_count": 13,
     "metadata": {},
     "output_type": "execute_result"
    }
   ],
   "source": [
    "obs.frequency"
   ]
  },
  {
   "cell_type": "code",
   "execution_count": 14,
   "metadata": {},
   "outputs": [
    {
     "data": {
      "text/plain": [
       "array([-166.39192692, -160.11298628, -153.83404564, -147.555105  ,\n",
       "       -141.27616436, -134.99722373, -128.71828309, -122.43934245,\n",
       "       -116.16040181, -109.88146117, -103.60252053,  -97.3235799 ,\n",
       "        -91.04463926,  -84.76569862,  -78.48675798,  -72.20781734,\n",
       "        -65.9288767 ,  -59.64993606,  -53.37099543,  -47.09205479,\n",
       "        -40.81311415,  -34.53417351,  -28.25523287,  -21.97629223,\n",
       "        -15.6973516 ,   -9.41841096,   -3.13947032,    3.13947032,\n",
       "          9.41841096,   15.6973516 ,   21.97629223,   28.25523287,\n",
       "         34.53417351,   40.81311415,   47.09205479,   53.37099543,\n",
       "         59.64993606,   65.9288767 ,   72.20781734,   78.48675798,\n",
       "         84.76569862,   91.04463926,   97.3235799 ,  103.60252053,\n",
       "        109.88146117,  116.16040181,  122.43934245,  128.71828309,\n",
       "        134.99722373,  141.27616436,  147.555105  ,  153.83404564,\n",
       "        160.11298628,  166.39192692])"
      ]
     },
     "execution_count": 14,
     "metadata": {},
     "output_type": "execute_result"
    }
   ],
   "source": [
    "obs.ugrid_edges"
   ]
  },
  {
   "cell_type": "markdown",
   "metadata": {},
   "source": [
    "We make sure the observation duration is close to 40 minutes:"
   ]
  },
  {
   "cell_type": "code",
   "execution_count": 15,
   "metadata": {},
   "outputs": [
    {
     "data": {
      "text/latex": [
       "$38.599051 \\; \\mathrm{min}$"
      ],
      "text/plain": [
       "<Quantity 38.59905059 min>"
      ]
     },
     "execution_count": 15,
     "metadata": {},
     "output_type": "execute_result"
    }
   ],
   "source": [
    "obs.obs_duration.to(un.min)"
   ]
  },
  {
   "cell_type": "markdown",
   "metadata": {},
   "source": [
    "Now construct the sensitivity calculation:"
   ]
  },
  {
   "cell_type": "code",
   "execution_count": 16,
   "metadata": {},
   "outputs": [],
   "source": [
    "sense_optimistic = p21c.PowerSpectrum(\n",
    "    observation=obs,\n",
    "    foreground_model='optimistic',\n",
    "    horizon_buffer=0.0 *littleh/un.Mpc,\n",
    "    theory_model=p21c.theory.Legacy21cmFAST(),\n",
    ")"
   ]
  },
  {
   "cell_type": "code",
   "execution_count": 17,
   "metadata": {},
   "outputs": [
    {
     "name": "stderr",
     "output_type": "stream",
     "text": [
      "calculating 2D sensitivity: 100%|██████████| 955/955 [00:02<00:00, 356.32uv-bins/s]\n",
      "averaging to 1D: 100%|██████████| 243/243 [00:00<00:00, 3693.52kperp-bins/s]\n"
     ]
    }
   ],
   "source": [
    "sense1d = sense_optimistic.calculate_sensitivity_1d(thermal=True, sample=True)"
   ]
  },
  {
   "cell_type": "code",
   "execution_count": 18,
   "metadata": {},
   "outputs": [
    {
     "data": {
      "text/latex": [
       "$[0.059523603,~0.11904721,~0.17857081,~0.23809441,~0.29761802,~0.35714162,~0.41666522,~0.47618883,~0.53571243,~0.59523603,~0.65475964,~0.71428324,~0.77380684,~0.83333045,~0.89285405,~0.95237766,~1.0119013,~1.0714249,~1.1309485,~1.1904721,~1.2499957,~1.3095193,~1.3690429,~1.4285665,~1.4880901,~1.5476137,~1.6071373,~1.6666609,~1.7261845,~1.7857081,~1.8452317,~1.9047553,~1.9642789,~2.0238025,~2.0833261,~2.1428497,~2.2023733,~2.2618969,~2.3214205,~2.3809441,~2.4404677,~2.4999913,~2.5595149,~2.6190386,~2.6785622,~2.7380858,~2.7976094,~2.857133,~2.9166566,~2.9761802,~3.0357038,~3.0952274,~3.154751,~3.2142746,~3.2737982,~3.3333218,~3.3928454,~3.452369,~3.5118926,~3.5714162,~3.6309398,~3.6904634,~3.749987,~3.8095106,~3.8690342,~3.9285578,~3.9880814,~4.047605,~4.1071286,~4.1666522,~4.2261758,~4.2856994,~4.3452231,~4.4047467,~4.4642703,~4.5237939,~4.5833175,~4.6428411,~4.7023647,~4.7618883,~4.8214119] \\; \\mathrm{\\frac{h_{100}}{Mpc}}$"
      ],
      "text/plain": [
       "<Quantity [0.0595236 , 0.11904721, 0.17857081, 0.23809441, 0.29761802,\n",
       "           0.35714162, 0.41666522, 0.47618883, 0.53571243, 0.59523603,\n",
       "           0.65475964, 0.71428324, 0.77380684, 0.83333045, 0.89285405,\n",
       "           0.95237766, 1.01190126, 1.07142486, 1.13094847, 1.19047207,\n",
       "           1.24999567, 1.30951928, 1.36904288, 1.42856648, 1.48809009,\n",
       "           1.54761369, 1.60713729, 1.6666609 , 1.7261845 , 1.7857081 ,\n",
       "           1.84523171, 1.90475531, 1.96427891, 2.02380252, 2.08332612,\n",
       "           2.14284972, 2.20237333, 2.26189693, 2.32142053, 2.38094414,\n",
       "           2.44046774, 2.49999135, 2.55951495, 2.61903855, 2.67856216,\n",
       "           2.73808576, 2.79760936, 2.85713297, 2.91665657, 2.97618017,\n",
       "           3.03570378, 3.09522738, 3.15475098, 3.21427459, 3.27379819,\n",
       "           3.33332179, 3.3928454 , 3.452369  , 3.5118926 , 3.57141621,\n",
       "           3.63093981, 3.69046341, 3.74998702, 3.80951062, 3.86903422,\n",
       "           3.92855783, 3.98808143, 4.04760504, 4.10712864, 4.16665224,\n",
       "           4.22617585, 4.28569945, 4.34522305, 4.40474666, 4.46427026,\n",
       "           4.52379386, 4.58331747, 4.64284107, 4.70236467, 4.76188828,\n",
       "           4.82141188] littleh / Mpc>"
      ]
     },
     "execution_count": 18,
     "metadata": {},
     "output_type": "execute_result"
    }
   ],
   "source": [
    "sense_optimistic.k1d"
   ]
  },
  {
   "cell_type": "code",
   "execution_count": 19,
   "metadata": {},
   "outputs": [
    {
     "name": "stderr",
     "output_type": "stream",
     "text": [
      "/home/steven/work/eor/21cmSense/py21cmsense/theory.py:142: UserWarning: Extrapolating above the simulated theoretical k: 3.3749883159994045 > 2.192064\n",
      "  warnings.warn(\n"
     ]
    },
    {
     "data": {
      "image/png": "[encoded data removed]",
      "text/plain": [
       "<Figure size 640x480 with 1 Axes>"
      ]
     },
     "metadata": {},
     "output_type": "display_data"
    }
   ],
   "source": [
    "plt.errorbar(\n",
    "    sense_optimistic.k1d, \n",
    "    sense_optimistic.delta_squared,\n",
    "    sense1d\n",
    ")\n",
    "plt.xlim(0.06, 1)\n",
    "plt.ylim(10, 50)\n",
    "plt.xscale('log')\n",
    "plt.yscale('log')\n",
    "\n",
    "for i, kk in enumerate(sense_optimistic.k1d):\n",
    "    sig = sense_optimistic.delta_squared[i] / sense1d[i]\n",
    "    yloc = sense_optimistic.delta_squared[i].value - sense1d[i].value - 1\n",
    "    if sig > 1 and yloc > 10:\n",
    "        plt.text(kk.value, yloc,  f\"{sig:.1f}\")\n",
    "\n",
    "plt.grid(which='both')"
   ]
  },
  {
   "cell_type": "code",
   "execution_count": 20,
   "metadata": {},
   "outputs": [],
   "source": [
    "sense_moderate = sense_optimistic.clone(foreground_model='moderate', horizon_buffer=0.1 *littleh/un.Mpc)"
   ]
  },
  {
   "cell_type": "code",
   "execution_count": 21,
   "metadata": {},
   "outputs": [
    {
     "name": "stderr",
     "output_type": "stream",
     "text": [
      "calculating 2D sensitivity: 100%|██████████| 955/955 [00:02<00:00, 352.27uv-bins/s]\n",
      "averaging to 1D: 100%|██████████| 243/243 [00:00<00:00, 3174.46kperp-bins/s]\n"
     ]
    }
   ],
   "source": [
    "sense1d_moderate = sense_moderate.calculate_sensitivity_1d(thermal=True, sample=True)"
   ]
  },
  {
   "cell_type": "code",
   "execution_count": 22,
   "metadata": {},
   "outputs": [
    {
     "name": "stderr",
     "output_type": "stream",
     "text": [
      "averaging to 1D: 100%|██████████| 243/243 [00:00<00:00, 3263.40kperp-bins/s]\n"
     ]
    }
   ],
   "source": [
    "sense1dthermal_modelerate = sense_moderate.calculate_sensitivity_1d(thermal=True, sample=False)"
   ]
  },
  {
   "cell_type": "code",
   "execution_count": 23,
   "metadata": {},
   "outputs": [
    {
     "data": {
      "image/png": "[encoded data removed]",
      "text/plain": [
       "<Figure size 640x480 with 1 Axes>"
      ]
     },
     "metadata": {},
     "output_type": "display_data"
    }
   ],
   "source": [
    "plt.errorbar(\n",
    "    sense_moderate.k1d, \n",
    "    sense_moderate.delta_squared,\n",
    "    sense1d_moderate\n",
    ")\n",
    "plt.xlim(0.06, 1)\n",
    "plt.ylim(10, 50)\n",
    "plt.xscale('log')\n",
    "plt.yscale('log')\n",
    "\n",
    "for i, kk in enumerate(sense_moderate.k1d):\n",
    "    sig = sense_moderate.delta_squared[i] / sense1dthermal_modelerate[i]\n",
    "    yloc = sense_moderate.delta_squared[i].value - sense1dthermal_modelerate[i].value - 1\n",
    "    if sig > 1 and yloc > 10:\n",
    "        plt.text(kk.value, yloc,  f\"{sense1dthermal_modelerate[i].value:.1f}\")\n",
    "\n",
    "plt.grid(which='both')"
   ]
  },
  {
   "cell_type": "code",
   "execution_count": 24,
   "metadata": {},
   "outputs": [
    {
     "name": "stderr",
     "output_type": "stream",
     "text": [
      "averaging to 1D: 100%|██████████| 243/243 [00:00<00:00, 3503.46kperp-bins/s]\n"
     ]
    }
   ],
   "source": [
    "sense1dsample_modelerate = sense_moderate.calculate_sensitivity_1d(thermal=False, sample=True)"
   ]
  },
  {
   "cell_type": "code",
   "execution_count": 25,
   "metadata": {},
   "outputs": [
    {
     "data": {
      "image/png": "[encoded data removed]",
      "text/plain": [
       "<Figure size 640x480 with 1 Axes>"
      ]
     },
     "metadata": {},
     "output_type": "display_data"
    }
   ],
   "source": [
    "plt.errorbar(\n",
    "    sense_moderate.k1d, \n",
    "    sense_moderate.delta_squared,\n",
    "    sense1d_moderate\n",
    ")\n",
    "plt.xlim(0.06, 1)\n",
    "plt.ylim(10, 50)\n",
    "plt.xscale('log')\n",
    "plt.yscale('log')\n",
    "\n",
    "for i, kk in enumerate(sense_moderate.k1d):\n",
    "    sig = sense_moderate.delta_squared[i] / sense1dsample_modelerate[i]\n",
    "    yloc = sense_moderate.delta_squared[i].value - sense1dsample_modelerate[i].value - 1\n",
    "    if sig > 1 and yloc > 10:\n",
    "        plt.text(kk.value, yloc,  f\"{sense1dsample_modelerate[i].value:.1f}\")\n",
    "\n",
    "plt.grid(which='both')"
   ]
  },
  {
   "cell_type": "code",
   "execution_count": 26,
   "metadata": {},
   "outputs": [
    {
     "data": {
      "image/png": "[encoded data removed]",
      "text/plain": [
       "<Figure size 640x480 with 1 Axes>"
      ]
     },
     "metadata": {},
     "output_type": "display_data"
    }
   ],
   "source": [
    "plt.errorbar(\n",
    "    sense_moderate.k1d, \n",
    "    sense_moderate.delta_squared,\n",
    "    sense1d_moderate\n",
    ")\n",
    "plt.xlim(0.06, 1)\n",
    "plt.ylim(10, 50)\n",
    "plt.xscale('log')\n",
    "plt.yscale('log')\n",
    "\n",
    "for i, kk in enumerate(sense_moderate.k1d):\n",
    "    sig = sense_moderate.delta_squared[i] / sense1d_moderate[i]\n",
    "    yloc = sense_moderate.delta_squared[i].value - sense1d_moderate[i].value - 1\n",
    "    if sig > 1 and yloc > 10:\n",
    "        plt.text(kk.value, yloc,  f\"{sig:.1f}\")\n",
    "\n",
    "plt.grid(which='both')"
   ]
  },
  {
   "cell_type": "code",
   "execution_count": 27,
   "metadata": {},
   "outputs": [],
   "source": [
    "from py21cmsense import observation\n",
    "\n",
    "\n",
    "sense_pessimistic = sense_moderate.clone(\n",
    "    observation=obs.clone(coherent=False)\n",
    ")"
   ]
  },
  {
   "cell_type": "code",
   "execution_count": 28,
   "metadata": {},
   "outputs": [
    {
     "name": "stderr",
     "output_type": "stream",
     "text": [
      "finding redundancies: 100%|██████████| 546/546 [00:03<00:00, 154.05ants/s]\n",
      "computing UVWs: 100%|██████████| 39/39 [00:00<00:00, 128.73times/s]\n",
      "gridding baselines: 100%|██████████| 2106/2106 [00:00<00:00, 14106.40baselines/s]\n",
      "calculating 2D sensitivity: 100%|██████████| 955/955 [00:02<00:00, 371.66uv-bins/s]\n",
      "averaging to 1D: 100%|██████████| 243/243 [00:00<00:00, 3317.43kperp-bins/s]\n"
     ]
    }
   ],
   "source": [
    "sense1d_pess = sense_pessimistic.calculate_sensitivity_1d(thermal=True, sample=True)"
   ]
  },
  {
   "cell_type": "code",
   "execution_count": 29,
   "metadata": {},
   "outputs": [
    {
     "data": {
      "image/png": "[encoded data removed]",
      "text/plain": [
       "<Figure size 640x480 with 1 Axes>"
      ]
     },
     "metadata": {},
     "output_type": "display_data"
    }
   ],
   "source": [
    "plt.errorbar(\n",
    "    sense_pessimistic.k1d, \n",
    "    sense_pessimistic.delta_squared,\n",
    "    sense1d_pess\n",
    ")\n",
    "plt.xlim(0.06, 1)\n",
    "plt.ylim(10, 50)\n",
    "plt.xscale('log')\n",
    "plt.yscale('log')\n",
    "\n",
    "for i, kk in enumerate(sense_pessimistic.k1d):\n",
    "    sig = sense_pessimistic.delta_squared[i] / sense1d_pess[i]\n",
    "    yloc = sense_pessimistic.delta_squared[i].value - sense1d_pess[i].value - 1\n",
    "    if sig > 1 and yloc > 10:\n",
    "        plt.text(kk.value, yloc,  f\"{sig:.1f}\")\n",
    "\n",
    "plt.grid(which='both')"
   ]
  },
  {
   "cell_type": "markdown",
   "metadata": {},
   "source": [
    "It seems that the default implementation of the new 21cmSense is everywhere a little less\n",
    "significant than the original implementation. It is unclear exactly where this difference\n",
    "comes from, but there are lots of small differences in the implementations -- of which the\n",
    "newer version is typically *more* accurate. In any case, the overall significance levels\n",
    "are comparable, and certainly have the same *shape* as the original."
   ]
  },
  {
   "cell_type": "markdown",
   "metadata": {},
   "source": [
    "## Tests"
   ]
  },
  {
   "cell_type": "markdown",
   "metadata": {},
   "source": [
    "From here, we are simply performing some tests to ensure that the results stay \n",
    "roughly consistent as new features/fixes are added."
   ]
  },
  {
   "cell_type": "code",
   "execution_count": 30,
   "metadata": {},
   "outputs": [],
   "source": [
    "snr_pess_pober14 = [\n",
    "    0, 0, 13.3, 17.1, 15.3, 12.3, 9.0, 6.5, 4.7, 3.4, 2.6, 2.0\n",
    "]"
   ]
  },
  {
   "cell_type": "code",
   "execution_count": 31,
   "metadata": {},
   "outputs": [],
   "source": [
    "snr_pess = sense_pessimistic.delta_squared / sense1d_pess\n",
    "if not np.allclose(snr_pess[:len(snr_pess_pober14)],snr_pess_pober14, atol=0, rtol=0.30):\n",
    "    raise ValueError(\"The SNR for the pessimistic case has changed by more than 30%!\")\n",
    "\n",
    "if not np.all(np.diff(snr_pess)[len(snr_pess_pober14):]<=0):\n",
    "    raise ValueError(\"The SNR for the pessimistic case is increasing at high k :/\")"
   ]
  },
  {
   "cell_type": "code",
   "execution_count": 32,
   "metadata": {},
   "outputs": [],
   "source": [
    "snr_mod_pober14 = [\n",
    "    0, 0, 14.0, 19.3, 18.3, 15.5, 11.8, 8.7, 6.4, 4.7, 3.6, 2.7, 2.2\n",
    "]"
   ]
  },
  {
   "cell_type": "code",
   "execution_count": 33,
   "metadata": {},
   "outputs": [],
   "source": [
    "snr_mod = sense_moderate.delta_squared / sense1d_moderate\n",
    "if not np.allclose(snr_mod[:len(snr_mod_pober14)],snr_mod_pober14, atol=0, rtol=0.30):\n",
    "    raise ValueError(\"The SNR for the moderate case has changed by more than 30%!\")\n",
    "\n",
    "if not np.all(np.diff(snr_mod)[len(snr_mod_pober14):]<=0):\n",
    "    raise ValueError(\"The SNR for the moderate case is increasing at high k :/\")"
   ]
  },
  {
   "cell_type": "code",
   "execution_count": 34,
   "metadata": {},
   "outputs": [],
   "source": [
    "snr_opt_pober14 = [\n",
    "    93.9, 66.5, 41.6, 27.1, 18.3, 12.7, 8.9, 6.4, 4.7, 3.6, 2.7, 2.2\n",
    "]"
   ]
  },
  {
   "cell_type": "code",
   "execution_count": 35,
   "metadata": {},
   "outputs": [],
   "source": [
    "snr_opt = sense_optimistic.delta_squared / sense1d\n",
    "if not np.allclose(snr_opt[1:len(snr_opt_pober14)+1],snr_opt_pober14, atol=0, rtol=0.35):\n",
    "    raise ValueError(\"The SNR for the optimistic case has changed by more than 30%!\")\n",
    "\n",
    "if not np.all(np.diff(snr_opt)[len(snr_opt_pober14)+1:]<=0):\n",
    "    raise ValueError(\"The SNR for the optimistic case is increasing at high k :/\")"
   ]
  },
  {
   "cell_type": "markdown",
   "metadata": {},
   "source": [
    "Also make sure that opt is better than moderate is better than pessimistic:"
   ]
  },
  {
   "cell_type": "code",
   "execution_count": 36,
   "metadata": {},
   "outputs": [],
   "source": [
    "if not np.all(snr_opt >= snr_mod):\n",
    "    raise ValueError(\"snr_opt must be better than snr_mod!\")\n",
    "\n",
    "if not np.all(snr_mod >= snr_pess):\n",
    "    raise ValueError(\"snr_mod must be better than snr_pess!\")\n"
   ]
  },
  {
   "cell_type": "markdown",
   "metadata": {},
   "source": [
    "Make sure we have the same \"shape\" as the original:"
   ]
  },
  {
   "cell_type": "code",
   "execution_count": 37,
   "metadata": {},
   "outputs": [],
   "source": [
    "if not np.all(np.sign(np.diff(snr_pess_pober14))==np.sign(np.diff(snr_pess[:len(snr_pess_pober14)]))):\n",
    "    raise ValueError(\"pessimistic case has different shape to Pober+14\")\n",
    "\n",
    "if not np.all(np.sign(np.diff(snr_mod_pober14))==np.sign(np.diff(snr_mod[:len(snr_mod_pober14)]))):\n",
    "    raise ValueError(\"moderate case has different shape to Pober+14\")\n",
    "\n",
    "if not np.all(np.sign(np.diff(snr_opt_pober14))==np.sign(np.diff(snr_opt[1:len(snr_opt_pober14)+1]))):\n",
    "    raise ValueError(\"optimistic case has different shape to Pober+14\")\n",
    "\n"
   ]
  },
  {
   "cell_type": "code",
   "execution_count": 38,
   "metadata": {},
   "outputs": [],
   "source": [
    "## Look at figure 10 -- thermal/cosmic variance breakdown"
   ]
  },
  {
   "cell_type": "code",
   "execution_count": null,
   "metadata": {},
   "outputs": [],
   "source": []
  }
 ],
 "metadata": {
  "kernelspec": {
   "display_name": "Python 3.10.6 ('sense')",
   "language": "python",
   "name": "python3"
  },
  "language_info": {
   "codemirror_mode": {
    "name": "ipython",
    "version": 3
   },
   "file_extension": ".py",
   "mimetype": "text/x-python",
   "name": "python",
   "nbconvert_exporter": "python",
   "pygments_lexer": "ipython3",
   "version": "3.10.6"
  },
  "orig_nbformat": 4,
  "vscode": {
   "interpreter": {
    "hash": "6fa29f5e4f57cd8c712524a97e07d2162cf815d6c48daa40d8ca34da05a68238"
   }
  }
 },
 "nbformat": 4,
 "nbformat_minor": 2
}
