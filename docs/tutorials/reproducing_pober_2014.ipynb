{
 "cells": [
  {
   "cell_type": "markdown",
   "metadata": {},
   "source": [
    "# Reproducing Pober+2014"
   ]
  },
  {
   "cell_type": "markdown",
   "metadata": {},
   "source": [
    "In this demo, we are going to reproduce many of the results of [Pober+2014](https://arxiv.org/pdf/1310.7031.pdf), which looked at the sensitivity of a \"concept HERA\" (which differs somewhat from the final instrument), as well as a few other well-known arrays."
   ]
  },
  {
   "cell_type": "code",
   "execution_count": 7,
   "metadata": {},
   "outputs": [],
   "source": [
    "import py21cmsense as p21c\n",
    "from astropy import units as un\n",
    "from astropy.cosmology.units import littleh\n",
    "import matplotlib.pyplot as plt\n",
    "import numpy as np"
   ]
  },
  {
   "cell_type": "code",
   "execution_count": 8,
   "metadata": {},
   "outputs": [],
   "source": [
    "p21c.config.COSMO = p21c.config.COSMO.clone(H0=70.0, Om0=0.266)"
   ]
  },
  {
   "cell_type": "markdown",
   "metadata": {},
   "source": [
    "## HERA"
   ]
  },
  {
   "cell_type": "markdown",
   "metadata": {},
   "source": [
    "P14 used a concept version of HERA that was a perfect hexagon (with no splits), with 547\n",
    "elements and no outriggers. Let's create such an array:"
   ]
  },
  {
   "cell_type": "code",
   "execution_count": 9,
   "metadata": {},
   "outputs": [],
   "source": [
    "hera_ants = p21c.antpos.hera(hex_num=14)"
   ]
  },
  {
   "cell_type": "code",
   "execution_count": 10,
   "metadata": {},
   "outputs": [
    {
     "data": {
      "text/plain": [
       "(547, 3)"
      ]
     },
     "execution_count": 10,
     "metadata": {},
     "output_type": "execute_result"
    }
   ],
   "source": [
    "hera_ants.shape"
   ]
  },
  {
   "cell_type": "markdown",
   "metadata": {},
   "source": [
    "We will reproduce the results at $z=9.5$ (the default case in P14). Note that we use a dish size that is slightly \n",
    "different that that of P14, because the important thing is to match the beam width (which scales linearly\n",
    "with frequency):"
   ]
  },
  {
   "cell_type": "code",
   "execution_count": 53,
   "metadata": {},
   "outputs": [],
   "source": [
    "beam = p21c.GaussianBeam(frequency=1420*un.MHz/(1 + 9.5), dish_size=13.919*un.m)"
   ]
  },
  {
   "cell_type": "code",
   "execution_count": 54,
   "metadata": {},
   "outputs": [
    {
     "data": {
      "text/latex": [
       "$9.6497626 \\; \\mathrm{{}^{\\circ}}$"
      ],
      "text/plain": [
       "<Quantity 9.64976265 deg>"
      ]
     },
     "execution_count": 54,
     "metadata": {},
     "output_type": "execute_result"
    }
   ],
   "source": [
    "beam.fwhm.to(un.deg)"
   ]
  },
  {
   "cell_type": "markdown",
   "metadata": {},
   "source": [
    "What is the beam-crossing time? This is given as \"about 40min\" by P14. We obtain it as:"
   ]
  },
  {
   "cell_type": "code",
   "execution_count": 55,
   "metadata": {},
   "outputs": [
    {
     "data": {
      "text/plain": [
       "38.5990505880113"
      ]
     },
     "execution_count": 55,
     "metadata": {},
     "output_type": "execute_result"
    }
   ],
   "source": [
    "beam.fwhm.to(un.deg).value*24*60/360"
   ]
  },
  {
   "cell_type": "markdown",
   "metadata": {},
   "source": [
    "As a check on whether our GaussianBeam model is similar to the assumed beam in P14, \n",
    "we check the FWHM at 150MHz, quoted as 8.7deg in Table 1 of P14:"
   ]
  },
  {
   "cell_type": "code",
   "execution_count": 56,
   "metadata": {},
   "outputs": [
    {
     "data": {
      "text/latex": [
       "$8.7001035 \\; \\mathrm{{}^{\\circ}}$"
      ],
      "text/plain": [
       "<Quantity 8.70010347 deg>"
      ]
     },
     "execution_count": 56,
     "metadata": {},
     "output_type": "execute_result"
    }
   ],
   "source": [
    "p21c.GaussianBeam(frequency=150*un.MHz, dish_size=13.919*un.m).fwhm.to(un.deg)"
   ]
  },
  {
   "cell_type": "markdown",
   "metadata": {},
   "source": [
    "This is very close to the quoted value."
   ]
  },
  {
   "cell_type": "markdown",
   "metadata": {},
   "source": [
    "Now, let's create the HERA Observatory model. Here, we set the receiver temperature to 100K,\n",
    "as per Table 1 of P14. We also set the latitude of the instrument to that of Green Bank (38:25:59.24),\n",
    "which was the assumed location of HERA in P14:"
   ]
  },
  {
   "cell_type": "code",
   "execution_count": 57,
   "metadata": {},
   "outputs": [],
   "source": [
    "hera = p21c.Observatory(\n",
    "    antpos=hera_ants,\n",
    "    beam=beam,\n",
    "    latitude=0.6707845*un.rad,\n",
    "    Trcv=100*un.K,\n",
    ")"
   ]
  },
  {
   "cell_type": "markdown",
   "metadata": {},
   "source": [
    "Now, set up the observation itself. Here we assume a sky temperature model of \n",
    "$351{\\rm K} (\\nu/150 {\\rm MHz})^{-2.55}$, as described in S2.1.2 of P14. \n",
    "\n",
    "Furthermore, we set the number of days of observation to 180, with 6 hours per night. \n",
    "We also set the \"coherent observing time\" to its default of the beam crossing time, \n",
    "which is about 40min as per the above calculation.\n",
    "\n",
    "Finally, as per S3.1.2 of P14, we use 8MHz of bandwidth, with 81 channels (providing\n",
    "0.1 MHz channel width)."
   ]
  },
  {
   "cell_type": "code",
   "execution_count": 58,
   "metadata": {},
   "outputs": [],
   "source": [
    "obs = p21c.Observation(\n",
    "    observatory=hera,\n",
    "    tsky_amplitude=351*un.K,\n",
    "    tsky_ref_freq=150*un.MHz,\n",
    "    spectral_index=2.55,\n",
    "    n_days=180,\n",
    "    time_per_day=6*un.hour,\n",
    "    bandwidth=8*un.MHz,\n",
    "    n_channels=81,\n",
    ")"
   ]
  },
  {
   "cell_type": "markdown",
   "metadata": {},
   "source": [
    "We make sure the observation duration is close to 40 minutes:"
   ]
  },
  {
   "cell_type": "code",
   "execution_count": 59,
   "metadata": {},
   "outputs": [
    {
     "data": {
      "text/latex": [
       "$38.599051 \\; \\mathrm{min}$"
      ],
      "text/plain": [
       "<Quantity 38.59905059 min>"
      ]
     },
     "execution_count": 59,
     "metadata": {},
     "output_type": "execute_result"
    }
   ],
   "source": [
    "obs.obs_duration.to(un.min)"
   ]
  },
  {
   "cell_type": "markdown",
   "metadata": {},
   "source": [
    "Now construct the sensitivity calculation:"
   ]
  },
  {
   "cell_type": "code",
   "execution_count": 60,
   "metadata": {},
   "outputs": [],
   "source": [
    "sense_optimistic = p21c.PowerSpectrum(\n",
    "    observation=obs,\n",
    "    foreground_model='optimistic',\n",
    "    horizon_buffer=0.0 *littleh/un.Mpc,\n",
    "    theory_model=p21c.theory.Legacy21cmFAST(),\n",
    ")"
   ]
  },
  {
   "cell_type": "code",
   "execution_count": 61,
   "metadata": {},
   "outputs": [
    {
     "name": "stderr",
     "output_type": "stream",
     "text": [
      "finding redundancies: 100%|██████████| 546/546 [00:03<00:00, 156.41ants/s]\n",
      "computing UVWs: 100%|██████████| 39/39 [00:00<00:00, 137.29times/s]\n",
      "gridding baselines: 100%|██████████| 2106/2106 [00:00<00:00, 13525.25baselines/s]\n",
      "calculating 2D sensitivity: 100%|██████████| 955/955 [00:02<00:00, 417.31uv-bins/s]\n",
      "averaging to 1D: 100%|██████████| 243/243 [00:00<00:00, 4181.47kperp-bins/s]\n"
     ]
    }
   ],
   "source": [
    "sense1d = sense_optimistic.calculate_sensitivity_1d(thermal=True, sample=True)"
   ]
  },
  {
   "cell_type": "code",
   "execution_count": 62,
   "metadata": {},
   "outputs": [
    {
     "name": "stderr",
     "output_type": "stream",
     "text": [
      "/home/steven/work/eor/21cmSense/py21cmsense/theory.py:142: UserWarning: Extrapolating above the simulated theoretical k: 3.3749883159994045 > 2.192064\n",
      "  warnings.warn(\n"
     ]
    },
    {
     "data": {
      "image/png": "[encoded data removed]",
      "text/plain": [
       "<Figure size 640x480 with 1 Axes>"
      ]
     },
     "metadata": {},
     "output_type": "display_data"
    }
   ],
   "source": [
    "plt.errorbar(\n",
    "    sense_optimistic.k1d, \n",
    "    sense_optimistic.delta_squared,\n",
    "    sense1d\n",
    ")\n",
    "plt.xlim(0.06, 1)\n",
    "plt.ylim(10, 50)\n",
    "plt.xscale('log')\n",
    "plt.yscale('log')\n",
    "\n",
    "for i, kk in enumerate(sense_optimistic.k1d):\n",
    "    sig = sense_optimistic.delta_squared[i] / sense1d[i]\n",
    "    yloc = sense_optimistic.delta_squared[i].value - sense1d[i].value - 1\n",
    "    if sig > 1 and yloc > 10:\n",
    "        plt.text(kk.value, yloc,  f\"{sig:.1f}\")\n",
    "\n",
    "plt.grid(which='both')"
   ]
  },
  {
   "cell_type": "code",
   "execution_count": 63,
   "metadata": {},
   "outputs": [],
   "source": [
    "sense_moderate = sense_optimistic.clone(foreground_model='moderate', horizon_buffer=0.1 *littleh/un.Mpc)"
   ]
  },
  {
   "cell_type": "code",
   "execution_count": 64,
   "metadata": {},
   "outputs": [
    {
     "name": "stderr",
     "output_type": "stream",
     "text": [
      "calculating 2D sensitivity: 100%|██████████| 955/955 [00:02<00:00, 439.61uv-bins/s]\n",
      "averaging to 1D: 100%|██████████| 243/243 [00:00<00:00, 3834.56kperp-bins/s]\n"
     ]
    }
   ],
   "source": [
    "sense1d_moderate = sense_moderate.calculate_sensitivity_1d(thermal=True, sample=True)"
   ]
  },
  {
   "cell_type": "code",
   "execution_count": 65,
   "metadata": {},
   "outputs": [
    {
     "data": {
      "image/png": "[encoded data removed]",
      "text/plain": [
       "<Figure size 640x480 with 1 Axes>"
      ]
     },
     "metadata": {},
     "output_type": "display_data"
    }
   ],
   "source": [
    "plt.errorbar(\n",
    "    sense_moderate.k1d, \n",
    "    sense_moderate.delta_squared,\n",
    "    sense1d_moderate\n",
    ")\n",
    "plt.xlim(0.06, 1)\n",
    "plt.ylim(10, 50)\n",
    "plt.xscale('log')\n",
    "plt.yscale('log')\n",
    "\n",
    "for i, kk in enumerate(sense_moderate.k1d):\n",
    "    sig = sense_moderate.delta_squared[i] / sense1d_moderate[i]\n",
    "    yloc = sense_moderate.delta_squared[i].value - sense1d_moderate[i].value - 1\n",
    "    if sig > 1 and yloc > 10:\n",
    "        plt.text(kk.value, yloc,  f\"{sig:.1f}\")\n",
    "\n",
    "plt.grid(which='both')"
   ]
  },
  {
   "cell_type": "code",
   "execution_count": 66,
   "metadata": {},
   "outputs": [],
   "source": [
    "from py21cmsense import observation\n",
    "\n",
    "\n",
    "sense_pessimistic = sense_moderate.clone(\n",
    "    observation=obs.clone(coherent=False)\n",
    ")"
   ]
  },
  {
   "cell_type": "code",
   "execution_count": 67,
   "metadata": {},
   "outputs": [
    {
     "name": "stderr",
     "output_type": "stream",
     "text": [
      "finding redundancies: 100%|██████████| 546/546 [00:03<00:00, 174.63ants/s]\n",
      "computing UVWs: 100%|██████████| 39/39 [00:00<00:00, 146.90times/s]\n",
      "gridding baselines: 100%|██████████| 2106/2106 [00:00<00:00, 14628.72baselines/s]\n",
      "calculating 2D sensitivity: 100%|██████████| 955/955 [00:02<00:00, 441.90uv-bins/s]\n",
      "averaging to 1D: 100%|██████████| 243/243 [00:00<00:00, 4018.53kperp-bins/s]\n"
     ]
    }
   ],
   "source": [
    "sense1d_pess = sense_pessimistic.calculate_sensitivity_1d(thermal=True, sample=True)"
   ]
  },
  {
   "cell_type": "code",
   "execution_count": 68,
   "metadata": {},
   "outputs": [
    {
     "data": {
      "image/png": "[encoded data removed]",
      "text/plain": [
       "<Figure size 640x480 with 1 Axes>"
      ]
     },
     "metadata": {},
     "output_type": "display_data"
    }
   ],
   "source": [
    "plt.errorbar(\n",
    "    sense_pessimistic.k1d, \n",
    "    sense_pessimistic.delta_squared,\n",
    "    sense1d_pess\n",
    ")\n",
    "plt.xlim(0.06, 1)\n",
    "plt.ylim(10, 50)\n",
    "plt.xscale('log')\n",
    "plt.yscale('log')\n",
    "\n",
    "for i, kk in enumerate(sense_pessimistic.k1d):\n",
    "    sig = sense_pessimistic.delta_squared[i] / sense1d_pess[i]\n",
    "    yloc = sense_pessimistic.delta_squared[i].value - sense1d_pess[i].value - 1\n",
    "    if sig > 1 and yloc > 10:\n",
    "        plt.text(kk.value, yloc,  f\"{sig:.1f}\")\n",
    "\n",
    "plt.grid(which='both')"
   ]
  },
  {
   "cell_type": "markdown",
   "metadata": {},
   "source": [
    "It seems that the default implementation of the new 21cmSense is everywhere a little less\n",
    "significant than the original implementation. It is unclear exactly where this difference\n",
    "comes from, but there are lots of small differences in the implementations -- of which the\n",
    "newer version is typically *more* accurate. In any case, the overall significance levels\n",
    "are comparable, and certainly have the same *shape* as the original."
   ]
  },
  {
   "cell_type": "markdown",
   "metadata": {},
   "source": [
    "## Tests"
   ]
  },
  {
   "cell_type": "markdown",
   "metadata": {},
   "source": [
    "From here, we are simply performing some tests to ensure that the results stay \n",
    "roughly consistent as new features/fixes are added."
   ]
  },
  {
   "cell_type": "code",
   "execution_count": 69,
   "metadata": {},
   "outputs": [],
   "source": [
    "snr_pess_pober14 = [\n",
    "    0, 0, 13.3, 17.1, 15.3, 12.3, 9.0, 6.5, 4.7, 3.4, 2.6, 2.0\n",
    "]"
   ]
  },
  {
   "cell_type": "code",
   "execution_count": 72,
   "metadata": {},
   "outputs": [],
   "source": [
    "snr_pess = sense_pessimistic.delta_squared / sense1d_pess\n",
    "if not np.allclose(snr_pess[:len(snr_pess_pober14)],snr_pess_pober14, atol=0, rtol=0.30):\n",
    "    raise ValueError(\"The SNR for the pessimistic case has changed by more than 30%!\")\n",
    "\n",
    "if not np.all(np.diff(snr_pess)[len(snr_pess_pober14):]<=0):\n",
    "    raise ValueError(\"The SNR for the pessimistic case is increasing at high k :/\")"
   ]
  },
  {
   "cell_type": "code",
   "execution_count": 32,
   "metadata": {},
   "outputs": [],
   "source": [
    "snr_mod_pober14 = [\n",
    "    0, 0, 14.0, 19.3, 18.3, 15.5, 11.8, 8.7, 6.4, 4.7, 3.6, 2.7, 2.2\n",
    "]"
   ]
  },
  {
   "cell_type": "code",
   "execution_count": 33,
   "metadata": {},
   "outputs": [],
   "source": [
    "snr_mod = sense_moderate.delta_squared / sense1d_moderate\n",
    "if not np.allclose(snr_mod[:len(snr_mod_pober14)],snr_mod_pober14, atol=0, rtol=0.30):\n",
    "    raise ValueError(\"The SNR for the moderate case has changed by more than 30%!\")\n",
    "\n",
    "if not np.all(np.diff(snr_mod)[len(snr_mod_pober14):]<=0):\n",
    "    raise ValueError(\"The SNR for the moderate case is increasing at high k :/\")"
   ]
  },
  {
   "cell_type": "code",
   "execution_count": 34,
   "metadata": {},
   "outputs": [],
   "source": [
    "snr_opt_pober14 = [\n",
    "    93.9, 66.5, 41.6, 27.1, 18.3, 12.7, 8.9, 6.4, 4.7, 3.6, 2.7, 2.2\n",
    "]"
   ]
  },
  {
   "cell_type": "code",
   "execution_count": 35,
   "metadata": {},
   "outputs": [],
   "source": [
    "snr_opt = sense_optimistic.delta_squared / sense1d\n",
    "if not np.allclose(snr_opt[1:len(snr_opt_pober14)+1],snr_opt_pober14, atol=0, rtol=0.35):\n",
    "    raise ValueError(\"The SNR for the optimistic case has changed by more than 30%!\")\n",
    "\n",
    "if not np.all(np.diff(snr_opt)[len(snr_opt_pober14)+1:]<=0):\n",
    "    raise ValueError(\"The SNR for the optimistic case is increasing at high k :/\")"
   ]
  },
  {
   "cell_type": "markdown",
   "metadata": {},
   "source": [
    "Also make sure that opt is better than moderate is better than pessimistic:"
   ]
  },
  {
   "cell_type": "code",
   "execution_count": 36,
   "metadata": {},
   "outputs": [],
   "source": [
    "if not np.all(snr_opt >= snr_mod):\n",
    "    raise ValueError(\"snr_opt must be better than snr_mod!\")\n",
    "\n",
    "if not np.all(snr_mod >= snr_pess):\n",
    "    raise ValueError(\"snr_mod must be better than snr_pess!\")\n"
   ]
  },
  {
   "cell_type": "markdown",
   "metadata": {},
   "source": [
    "Make sure we have the same \"shape\" as the original:"
   ]
  },
  {
   "cell_type": "code",
   "execution_count": 37,
   "metadata": {},
   "outputs": [],
   "source": [
    "if not np.all(np.sign(np.diff(snr_pess_pober14))==np.sign(np.diff(snr_pess[:len(snr_pess_pober14)]))):\n",
    "    raise ValueError(\"pessimistic case has different shape to Pober+14\")\n",
    "\n",
    "if not np.all(np.sign(np.diff(snr_mod_pober14))==np.sign(np.diff(snr_mod[:len(snr_mod_pober14)]))):\n",
    "    raise ValueError(\"moderate case has different shape to Pober+14\")\n",
    "\n",
    "if not np.all(np.sign(np.diff(snr_opt_pober14))==np.sign(np.diff(snr_opt[1:len(snr_opt_pober14)+1]))):\n",
    "    raise ValueError(\"optimistic case has different shape to Pober+14\")\n",
    "\n"
   ]
  },
  {
   "cell_type": "code",
   "execution_count": null,
   "metadata": {},
   "outputs": [],
   "source": []
  }
 ],
 "metadata": {
  "kernelspec": {
   "display_name": "Python 3.10.6 ('sense')",
   "language": "python",
   "name": "python3"
  },
  "language_info": {
   "codemirror_mode": {
    "name": "ipython",
    "version": 3
   },
   "file_extension": ".py",
   "mimetype": "text/x-python",
   "name": "python",
   "nbconvert_exporter": "python",
   "pygments_lexer": "ipython3",
   "version": "3.10.6"
  },
  "orig_nbformat": 4,
  "vscode": {
   "interpreter": {
    "hash": "6fa29f5e4f57cd8c712524a97e07d2162cf815d6c48daa40d8ca34da05a68238"
   }
  }
 },
 "nbformat": 4,
 "nbformat_minor": 2
}
